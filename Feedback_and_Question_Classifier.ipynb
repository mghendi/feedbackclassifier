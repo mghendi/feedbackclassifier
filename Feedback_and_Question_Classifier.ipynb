{
  "nbformat": 4,
  "nbformat_minor": 0,
  "metadata": {
    "kernelspec": {
      "display_name": "Python 3",
      "language": "python",
      "name": "python3"
    },
    "language_info": {
      "codemirror_mode": {
        "name": "ipython",
        "version": 3
      },
      "file_extension": ".py",
      "mimetype": "text/x-python",
      "name": "python",
      "nbconvert_exporter": "python",
      "pygments_lexer": "ipython3",
      "version": "3.7.6"
    },
    "colab": {
      "name": "Feedback and Question Classifier.ipynb",
      "provenance": [],
      "include_colab_link": true
    }
  },
  "cells": [
    {
      "cell_type": "markdown",
      "metadata": {
        "id": "view-in-github",
        "colab_type": "text"
      },
      "source": [
        "<a href=\"https://colab.research.google.com/github/mghendi/feedbackclassifier/blob/main/Feedback_and_Question_Classifier.ipynb\" target=\"_parent\"><img src=\"https://colab.research.google.com/assets/colab-badge.svg\" alt=\"Open In Colab\"/></a>"
      ]
    },
    {
      "cell_type": "markdown",
      "metadata": {
        "id": "yZMzlr9u32X1"
      },
      "source": [
        "## CCI508 - Language Technology Project\n",
        "\n",
        "### Name: Samuel Mwamburi Mghendi \n",
        "\n",
        "### Admission Number: P52/37621/2020\n",
        "\n",
        "### Email: mghendi@students.uonbi.ac.ke\n",
        "\n",
        "### Course: Language Technology – CCI 508"
      ]
    },
    {
      "cell_type": "markdown",
      "metadata": {
        "id": "3pNDhmQq32X2"
      },
      "source": [
        "#### Applying Natural Language Processing (NLP) in the Classification of Bugs, Tasks and Improvements for feedback and questions received by Software Developers."
      ]
    },
    {
      "cell_type": "markdown",
      "metadata": {
        "id": "qOltahUz32X3"
      },
      "source": [
        "#### This report is organised as follows.\n",
        "\n",
        "1. Data Description\n",
        "   * Data Loading and Preparation\n",
        "   * Exploratory Data Analysis\n",
        "2. Data Preprocessing and Modelling\n",
        "   * Data Preprocessing\n",
        "   * Modelling\n",
        "3. Model Evaluation\n",
        "4. Conclusion"
      ]
    },
    {
      "cell_type": "markdown",
      "metadata": {
        "id": "LR3p8yvS32X3"
      },
      "source": [
        "### 1. Data Description\n",
        "   ####  Data Loading and Preparation\n",
        "   \n",
        "   \n",
        "   \n",
        "#### Initialization"
      ]
    },
    {
      "cell_type": "code",
      "metadata": {
        "id": "z7OGl12E32X4"
      },
      "source": [
        "import numpy as np\n",
        "import pandas as pd\n",
        "import matplotlib.pyplot as plt\n",
        "import seaborn as sns"
      ],
      "execution_count": null,
      "outputs": []
    },
    {
      "cell_type": "code",
      "metadata": {
        "id": "YXRlp9GW32X4"
      },
      "source": [
        "import pymysql"
      ],
      "execution_count": null,
      "outputs": []
    },
    {
      "cell_type": "code",
      "metadata": {
        "id": "O3VKQKMe32X4"
      },
      "source": [
        "import os\n",
        "import datetime"
      ],
      "execution_count": null,
      "outputs": []
    },
    {
      "cell_type": "markdown",
      "metadata": {
        "id": "9aPSmNcp32X5"
      },
      "source": [
        "#### Import Data from Database"
      ]
    },
    {
      "cell_type": "code",
      "metadata": {
        "id": "ptQfW_XE32X5"
      },
      "source": [
        "database =  pymysql.connect (host=\"localhost\", user = \"root\", passwd = \"password\", db = \"helpdesk\")"
      ],
      "execution_count": null,
      "outputs": []
    },
    {
      "cell_type": "code",
      "metadata": {
        "id": "7HZS3X4g32X5"
      },
      "source": [
        "cursor1 = database.cursor()"
      ],
      "execution_count": null,
      "outputs": []
    },
    {
      "cell_type": "code",
      "metadata": {
        "id": "DgZvmxS532X5",
        "outputId": "acf77770-732c-4308-fc3c-4cc32df8b855"
      },
      "source": [
        "cursor1.execute(\"select * from issues limit 5;\")"
      ],
      "execution_count": null,
      "outputs": [
        {
          "output_type": "execute_result",
          "data": {
            "text/plain": [
              "5"
            ]
          },
          "metadata": {
            "tags": []
          },
          "execution_count": 6
        }
      ]
    },
    {
      "cell_type": "code",
      "metadata": {
        "id": "J06hkVf-32X6"
      },
      "source": [
        "results = cursor1.fetchall()"
      ],
      "execution_count": null,
      "outputs": []
    },
    {
      "cell_type": "code",
      "metadata": {
        "id": "ugYIjlHL32X6",
        "outputId": "a325bd4e-4847-449f-96d0-524ceac973e9"
      },
      "source": [
        "print(results)"
      ],
      "execution_count": null,
      "outputs": [
        {
          "output_type": "stream",
          "text": [
            "((1, 'Task', 'Simon Mogaka', 'Automate importing of Umoja data form Email to Central DB', '28-05-2018'), (2, 'Bug', 'Simon Mogaka', 'There is an error when editing a UID (currency options diasppear) and the donor does not show on the summary list', '19-06-2015'), (3, 'Task', 'Simon Mogaka', 'User Modules', '18-07-2015'), (4, 'Task', 'Simon Mogaka', 'Communication > Pending Approval > UID Letter Approvals', '19-07-2015'), (5, 'Bug', 'Simon Mogaka', 'Error on Editing Function', '19-07-2015'))\n"
          ],
          "name": "stdout"
        }
      ]
    },
    {
      "cell_type": "code",
      "metadata": {
        "id": "IuUqZqjt32X7"
      },
      "source": [
        "import pandas as pd\n",
        "df = pd.read_sql_query(\"select * from issues limit 70;\", database)"
      ],
      "execution_count": null,
      "outputs": []
    },
    {
      "cell_type": "code",
      "metadata": {
        "id": "LIdHLcC532X7",
        "outputId": "5b82e71d-9685-428e-a9a8-65f4241f06c3"
      },
      "source": [
        "df"
      ],
      "execution_count": null,
      "outputs": [
        {
          "output_type": "execute_result",
          "data": {
            "text/html": [
              "<div>\n",
              "<style scoped>\n",
              "    .dataframe tbody tr th:only-of-type {\n",
              "        vertical-align: middle;\n",
              "    }\n",
              "\n",
              "    .dataframe tbody tr th {\n",
              "        vertical-align: top;\n",
              "    }\n",
              "\n",
              "    .dataframe thead th {\n",
              "        text-align: right;\n",
              "    }\n",
              "</style>\n",
              "<table border=\"1\" class=\"dataframe\">\n",
              "  <thead>\n",
              "    <tr style=\"text-align: right;\">\n",
              "      <th></th>\n",
              "      <th>id</th>\n",
              "      <th>issue_type</th>\n",
              "      <th>user</th>\n",
              "      <th>summary</th>\n",
              "      <th>created</th>\n",
              "    </tr>\n",
              "  </thead>\n",
              "  <tbody>\n",
              "    <tr>\n",
              "      <th>0</th>\n",
              "      <td>1</td>\n",
              "      <td>Task</td>\n",
              "      <td>Simon Mogaka</td>\n",
              "      <td>Automate importing of Umoja data form Email to...</td>\n",
              "      <td>28-05-2018</td>\n",
              "    </tr>\n",
              "    <tr>\n",
              "      <th>1</th>\n",
              "      <td>2</td>\n",
              "      <td>Bug</td>\n",
              "      <td>Simon Mogaka</td>\n",
              "      <td>There is an error when editing a UID (currency...</td>\n",
              "      <td>19-06-2015</td>\n",
              "    </tr>\n",
              "    <tr>\n",
              "      <th>2</th>\n",
              "      <td>3</td>\n",
              "      <td>Task</td>\n",
              "      <td>Simon Mogaka</td>\n",
              "      <td>User Modules</td>\n",
              "      <td>18-07-2015</td>\n",
              "    </tr>\n",
              "    <tr>\n",
              "      <th>3</th>\n",
              "      <td>4</td>\n",
              "      <td>Task</td>\n",
              "      <td>Simon Mogaka</td>\n",
              "      <td>Communication &gt; Pending Approval &gt; UID Letter ...</td>\n",
              "      <td>19-07-2015</td>\n",
              "    </tr>\n",
              "    <tr>\n",
              "      <th>4</th>\n",
              "      <td>5</td>\n",
              "      <td>Bug</td>\n",
              "      <td>Simon Mogaka</td>\n",
              "      <td>Error on Editing Function</td>\n",
              "      <td>19-07-2015</td>\n",
              "    </tr>\n",
              "    <tr>\n",
              "      <th>...</th>\n",
              "      <td>...</td>\n",
              "      <td>...</td>\n",
              "      <td>...</td>\n",
              "      <td>...</td>\n",
              "      <td>...</td>\n",
              "    </tr>\n",
              "    <tr>\n",
              "      <th>65</th>\n",
              "      <td>66</td>\n",
              "      <td>Task</td>\n",
              "      <td>Paul Maina</td>\n",
              "      <td>Changes in data, deletions of erroneous records</td>\n",
              "      <td>14-09-2017</td>\n",
              "    </tr>\n",
              "    <tr>\n",
              "      <th>66</th>\n",
              "      <td>67</td>\n",
              "      <td>Task</td>\n",
              "      <td>Simon Mogaka</td>\n",
              "      <td>ANUBIS - Unable to upload documents</td>\n",
              "      <td>20-09-2017</td>\n",
              "    </tr>\n",
              "    <tr>\n",
              "      <th>67</th>\n",
              "      <td>68</td>\n",
              "      <td>Bug</td>\n",
              "      <td>Simon Mogaka</td>\n",
              "      <td>Error on uploading Minutes</td>\n",
              "      <td>17-10-2017</td>\n",
              "    </tr>\n",
              "    <tr>\n",
              "      <th>68</th>\n",
              "      <td>69</td>\n",
              "      <td>Task</td>\n",
              "      <td>Samuel Mwamburi Mghendi</td>\n",
              "      <td>PostgreSQL db dump restoration issue on DSpace...</td>\n",
              "      <td>19-10-2017</td>\n",
              "    </tr>\n",
              "    <tr>\n",
              "      <th>69</th>\n",
              "      <td>70</td>\n",
              "      <td>Task</td>\n",
              "      <td>Samuel Mwamburi Mghendi</td>\n",
              "      <td>New DSpace 6.x Mirage 2 Theme</td>\n",
              "      <td>02-11-2017</td>\n",
              "    </tr>\n",
              "  </tbody>\n",
              "</table>\n",
              "<p>70 rows × 5 columns</p>\n",
              "</div>"
            ],
            "text/plain": [
              "    id issue_type                     user  \\\n",
              "0    1       Task             Simon Mogaka   \n",
              "1    2        Bug             Simon Mogaka   \n",
              "2    3       Task             Simon Mogaka   \n",
              "3    4       Task             Simon Mogaka   \n",
              "4    5        Bug             Simon Mogaka   \n",
              "..  ..        ...                      ...   \n",
              "65  66       Task               Paul Maina   \n",
              "66  67       Task             Simon Mogaka   \n",
              "67  68        Bug             Simon Mogaka   \n",
              "68  69       Task  Samuel Mwamburi Mghendi   \n",
              "69  70       Task  Samuel Mwamburi Mghendi   \n",
              "\n",
              "                                              summary     created  \n",
              "0   Automate importing of Umoja data form Email to...  28-05-2018  \n",
              "1   There is an error when editing a UID (currency...  19-06-2015  \n",
              "2                                        User Modules  18-07-2015  \n",
              "3   Communication > Pending Approval > UID Letter ...  19-07-2015  \n",
              "4                           Error on Editing Function  19-07-2015  \n",
              "..                                                ...         ...  \n",
              "65    Changes in data, deletions of erroneous records  14-09-2017  \n",
              "66                ANUBIS - Unable to upload documents  20-09-2017  \n",
              "67                         Error on uploading Minutes  17-10-2017  \n",
              "68  PostgreSQL db dump restoration issue on DSpace...  19-10-2017  \n",
              "69                      New DSpace 6.x Mirage 2 Theme  02-11-2017  \n",
              "\n",
              "[70 rows x 5 columns]"
            ]
          },
          "metadata": {
            "tags": []
          },
          "execution_count": 10
        }
      ]
    },
    {
      "cell_type": "code",
      "metadata": {
        "id": "PujG5Bn032X7"
      },
      "source": [
        "from sklearn import preprocessing\n",
        "from nltk.corpus import stopwords\n",
        "from nltk.stem.snowball import SnowballStemmer\n",
        "import matplotlib\n",
        "from matplotlib import pyplot as plt"
      ],
      "execution_count": null,
      "outputs": []
    },
    {
      "cell_type": "markdown",
      "metadata": {
        "id": "qV-mjCQu32X7"
      },
      "source": [
        "   ####  Exploratory Data Analysis"
      ]
    },
    {
      "cell_type": "code",
      "metadata": {
        "id": "cwjFjnVO32X7",
        "outputId": "4cfb34ad-ac0a-4eff-fae5-6e00b86fd860"
      },
      "source": [
        "df.describe()"
      ],
      "execution_count": null,
      "outputs": [
        {
          "output_type": "execute_result",
          "data": {
            "text/html": [
              "<div>\n",
              "<style scoped>\n",
              "    .dataframe tbody tr th:only-of-type {\n",
              "        vertical-align: middle;\n",
              "    }\n",
              "\n",
              "    .dataframe tbody tr th {\n",
              "        vertical-align: top;\n",
              "    }\n",
              "\n",
              "    .dataframe thead th {\n",
              "        text-align: right;\n",
              "    }\n",
              "</style>\n",
              "<table border=\"1\" class=\"dataframe\">\n",
              "  <thead>\n",
              "    <tr style=\"text-align: right;\">\n",
              "      <th></th>\n",
              "      <th>id</th>\n",
              "    </tr>\n",
              "  </thead>\n",
              "  <tbody>\n",
              "    <tr>\n",
              "      <th>count</th>\n",
              "      <td>70.000000</td>\n",
              "    </tr>\n",
              "    <tr>\n",
              "      <th>mean</th>\n",
              "      <td>35.500000</td>\n",
              "    </tr>\n",
              "    <tr>\n",
              "      <th>std</th>\n",
              "      <td>20.351085</td>\n",
              "    </tr>\n",
              "    <tr>\n",
              "      <th>min</th>\n",
              "      <td>1.000000</td>\n",
              "    </tr>\n",
              "    <tr>\n",
              "      <th>25%</th>\n",
              "      <td>18.250000</td>\n",
              "    </tr>\n",
              "    <tr>\n",
              "      <th>50%</th>\n",
              "      <td>35.500000</td>\n",
              "    </tr>\n",
              "    <tr>\n",
              "      <th>75%</th>\n",
              "      <td>52.750000</td>\n",
              "    </tr>\n",
              "    <tr>\n",
              "      <th>max</th>\n",
              "      <td>70.000000</td>\n",
              "    </tr>\n",
              "  </tbody>\n",
              "</table>\n",
              "</div>"
            ],
            "text/plain": [
              "              id\n",
              "count  70.000000\n",
              "mean   35.500000\n",
              "std    20.351085\n",
              "min     1.000000\n",
              "25%    18.250000\n",
              "50%    35.500000\n",
              "75%    52.750000\n",
              "max    70.000000"
            ]
          },
          "metadata": {
            "tags": []
          },
          "execution_count": 12
        }
      ]
    },
    {
      "cell_type": "code",
      "metadata": {
        "id": "R9lYvfET32X8",
        "outputId": "6b7fe518-8488-4e87-f77d-9bd693e8d694"
      },
      "source": [
        "df.info()"
      ],
      "execution_count": null,
      "outputs": [
        {
          "output_type": "stream",
          "text": [
            "<class 'pandas.core.frame.DataFrame'>\n",
            "RangeIndex: 70 entries, 0 to 69\n",
            "Data columns (total 5 columns):\n",
            " #   Column      Non-Null Count  Dtype \n",
            "---  ------      --------------  ----- \n",
            " 0   id          70 non-null     int64 \n",
            " 1   issue_type  70 non-null     object\n",
            " 2   user        70 non-null     object\n",
            " 3   summary     70 non-null     object\n",
            " 4   created     70 non-null     object\n",
            "dtypes: int64(1), object(4)\n",
            "memory usage: 2.9+ KB\n"
          ],
          "name": "stdout"
        }
      ]
    },
    {
      "cell_type": "code",
      "metadata": {
        "scrolled": false,
        "id": "oXRGud7q32X8",
        "outputId": "7c3b5b9f-30ff-472c-f7f5-987b73d1a233"
      },
      "source": [
        "df['issue_type'].astype(str)"
      ],
      "execution_count": null,
      "outputs": [
        {
          "output_type": "execute_result",
          "data": {
            "text/plain": [
              "0     Task\n",
              "1      Bug\n",
              "2     Task\n",
              "3     Task\n",
              "4      Bug\n",
              "      ... \n",
              "65    Task\n",
              "66    Task\n",
              "67     Bug\n",
              "68    Task\n",
              "69    Task\n",
              "Name: issue_type, Length: 70, dtype: object"
            ]
          },
          "metadata": {
            "tags": []
          },
          "execution_count": 15
        }
      ]
    },
    {
      "cell_type": "code",
      "metadata": {
        "id": "zXWrQ87432X8"
      },
      "source": [
        "del df['id']\n",
        "del df['created']\n",
        "del df['user']"
      ],
      "execution_count": null,
      "outputs": []
    },
    {
      "cell_type": "code",
      "metadata": {
        "scrolled": false,
        "id": "gX0-Kgfi32X8",
        "outputId": "9e5319c6-5330-4253-d5c1-30abac8da407"
      },
      "source": [
        "df.groupby(['issue_type']).count().plot.bar(ylim=0)\n",
        "plt.show()"
      ],
      "execution_count": null,
      "outputs": [
        {
          "output_type": "display_data",
          "data": {
            "image/png": "[encoded data removed]",
            "text/plain": [
              "<Figure size 432x288 with 1 Axes>"
            ]
          },
          "metadata": {
            "tags": [],
            "needs_background": "light"
          }
        }
      ]
    },
    {
      "cell_type": "code",
      "metadata": {
        "id": "QJp74hn732X9"
      },
      "source": [
        "%matplotlib inline\n",
        "%config InlineBackend.figure_format = 'retina'"
      ],
      "execution_count": null,
      "outputs": []
    },
    {
      "cell_type": "markdown",
      "metadata": {
        "id": "6O8RpTS132X9"
      },
      "source": [
        "#### Remove StopWords from issues"
      ]
    },
    {
      "cell_type": "code",
      "metadata": {
        "id": "0HxpF0aZ32X9",
        "outputId": "b8731396-ad1e-49fe-9306-b06a4ed64fe3"
      },
      "source": [
        "import nltk\n",
        "nltk.download('stopwords')"
      ],
      "execution_count": null,
      "outputs": [
        {
          "output_type": "stream",
          "text": [
            "[nltk_data] Downloading package stopwords to\n",
            "[nltk_data]     C:\\Users\\mghendis\\AppData\\Roaming\\nltk_data...\n",
            "[nltk_data]   Package stopwords is already up-to-date!\n"
          ],
          "name": "stderr"
        },
        {
          "output_type": "execute_result",
          "data": {
            "text/plain": [
              "True"
            ]
          },
          "metadata": {
            "tags": []
          },
          "execution_count": 30
        }
      ]
    },
    {
      "cell_type": "code",
      "metadata": {
        "id": "-8wQe6PP32X9"
      },
      "source": [
        "sw = stopwords.words('english')"
      ],
      "execution_count": null,
      "outputs": []
    },
    {
      "cell_type": "code",
      "metadata": {
        "id": "BKmKSC4232X9"
      },
      "source": [
        "def stopwords(summary):\n",
        "    summary = [word.lower() for word in summary.split() if word.lower() not in sw]\n",
        "    return \" \".join(summary)"
      ],
      "execution_count": null,
      "outputs": []
    },
    {
      "cell_type": "code",
      "metadata": {
        "id": "mOdG5BZt32X-",
        "outputId": "a49f7953-ffb7-44e5-c642-0d7ec15f4068"
      },
      "source": [
        "df['summary'] = df['summary'].apply(stopwords)\n",
        "df"
      ],
      "execution_count": null,
      "outputs": [
        {
          "output_type": "execute_result",
          "data": {
            "text/html": [
              "<div>\n",
              "<style scoped>\n",
              "    .dataframe tbody tr th:only-of-type {\n",
              "        vertical-align: middle;\n",
              "    }\n",
              "\n",
              "    .dataframe tbody tr th {\n",
              "        vertical-align: top;\n",
              "    }\n",
              "\n",
              "    .dataframe thead th {\n",
              "        text-align: right;\n",
              "    }\n",
              "</style>\n",
              "<table border=\"1\" class=\"dataframe\">\n",
              "  <thead>\n",
              "    <tr style=\"text-align: right;\">\n",
              "      <th></th>\n",
              "      <th>issue_type</th>\n",
              "      <th>summary</th>\n",
              "    </tr>\n",
              "  </thead>\n",
              "  <tbody>\n",
              "    <tr>\n",
              "      <th>0</th>\n",
              "      <td>Task</td>\n",
              "      <td>automate importing umoja data form email centr...</td>\n",
              "    </tr>\n",
              "    <tr>\n",
              "      <th>1</th>\n",
              "      <td>Bug</td>\n",
              "      <td>error editing uid (currency options diasppear)...</td>\n",
              "    </tr>\n",
              "    <tr>\n",
              "      <th>2</th>\n",
              "      <td>Task</td>\n",
              "      <td>user modules</td>\n",
              "    </tr>\n",
              "    <tr>\n",
              "      <th>3</th>\n",
              "      <td>Task</td>\n",
              "      <td>communication &gt; pending approval &gt; uid letter ...</td>\n",
              "    </tr>\n",
              "    <tr>\n",
              "      <th>4</th>\n",
              "      <td>Bug</td>\n",
              "      <td>error editing function</td>\n",
              "    </tr>\n",
              "    <tr>\n",
              "      <th>...</th>\n",
              "      <td>...</td>\n",
              "      <td>...</td>\n",
              "    </tr>\n",
              "    <tr>\n",
              "      <th>65</th>\n",
              "      <td>Task</td>\n",
              "      <td>changes data, deletions erroneous records</td>\n",
              "    </tr>\n",
              "    <tr>\n",
              "      <th>66</th>\n",
              "      <td>Task</td>\n",
              "      <td>anubis - unable upload documents</td>\n",
              "    </tr>\n",
              "    <tr>\n",
              "      <th>67</th>\n",
              "      <td>Bug</td>\n",
              "      <td>error uploading minutes</td>\n",
              "    </tr>\n",
              "    <tr>\n",
              "      <th>68</th>\n",
              "      <td>Task</td>\n",
              "      <td>postgresql db dump restoration issue dspace 6.2</td>\n",
              "    </tr>\n",
              "    <tr>\n",
              "      <th>69</th>\n",
              "      <td>Task</td>\n",
              "      <td>new dspace 6.x mirage 2 theme</td>\n",
              "    </tr>\n",
              "  </tbody>\n",
              "</table>\n",
              "<p>70 rows × 2 columns</p>\n",
              "</div>"
            ],
            "text/plain": [
              "   issue_type                                            summary\n",
              "0        Task  automate importing umoja data form email centr...\n",
              "1         Bug  error editing uid (currency options diasppear)...\n",
              "2        Task                                       user modules\n",
              "3        Task  communication > pending approval > uid letter ...\n",
              "4         Bug                             error editing function\n",
              "..        ...                                                ...\n",
              "65       Task          changes data, deletions erroneous records\n",
              "66       Task                   anubis - unable upload documents\n",
              "67        Bug                            error uploading minutes\n",
              "68       Task    postgresql db dump restoration issue dspace 6.2\n",
              "69       Task                      new dspace 6.x mirage 2 theme\n",
              "\n",
              "[70 rows x 2 columns]"
            ]
          },
          "metadata": {
            "tags": []
          },
          "execution_count": 33
        }
      ]
    },
    {
      "cell_type": "markdown",
      "metadata": {
        "id": "Emu1SLqB32X-"
      },
      "source": [
        "#### Replacing non-ASCII characters with spaces"
      ]
    },
    {
      "cell_type": "code",
      "metadata": {
        "id": "X0VEyDoE32X-"
      },
      "source": [
        "from unidecode import unidecode\n",
        "\n",
        "def remove_non_ascii(summary):\n",
        "\n",
        "    return ''.join([i if ord(i) < 128 else ' ' for i in summary])"
      ],
      "execution_count": null,
      "outputs": []
    },
    {
      "cell_type": "code",
      "metadata": {
        "id": "ViftRf6u32X-",
        "outputId": "d661dcaf-fbba-404c-830c-47402282d156"
      },
      "source": [
        "df['summary'] = df['summary'].apply(remove_non_ascii)\n",
        "df"
      ],
      "execution_count": null,
      "outputs": [
        {
          "output_type": "execute_result",
          "data": {
            "text/html": [
              "<div>\n",
              "<style scoped>\n",
              "    .dataframe tbody tr th:only-of-type {\n",
              "        vertical-align: middle;\n",
              "    }\n",
              "\n",
              "    .dataframe tbody tr th {\n",
              "        vertical-align: top;\n",
              "    }\n",
              "\n",
              "    .dataframe thead th {\n",
              "        text-align: right;\n",
              "    }\n",
              "</style>\n",
              "<table border=\"1\" class=\"dataframe\">\n",
              "  <thead>\n",
              "    <tr style=\"text-align: right;\">\n",
              "      <th></th>\n",
              "      <th>issue_type</th>\n",
              "      <th>summary</th>\n",
              "    </tr>\n",
              "  </thead>\n",
              "  <tbody>\n",
              "    <tr>\n",
              "      <th>0</th>\n",
              "      <td>Task</td>\n",
              "      <td>automate importing umoja data form email centr...</td>\n",
              "    </tr>\n",
              "    <tr>\n",
              "      <th>1</th>\n",
              "      <td>Bug</td>\n",
              "      <td>error editing uid (currency options diasppear)...</td>\n",
              "    </tr>\n",
              "    <tr>\n",
              "      <th>2</th>\n",
              "      <td>Task</td>\n",
              "      <td>user modules</td>\n",
              "    </tr>\n",
              "    <tr>\n",
              "      <th>3</th>\n",
              "      <td>Task</td>\n",
              "      <td>communication &gt; pending approval &gt; uid letter ...</td>\n",
              "    </tr>\n",
              "    <tr>\n",
              "      <th>4</th>\n",
              "      <td>Bug</td>\n",
              "      <td>error editing function</td>\n",
              "    </tr>\n",
              "    <tr>\n",
              "      <th>...</th>\n",
              "      <td>...</td>\n",
              "      <td>...</td>\n",
              "    </tr>\n",
              "    <tr>\n",
              "      <th>65</th>\n",
              "      <td>Task</td>\n",
              "      <td>changes data, deletions erroneous records</td>\n",
              "    </tr>\n",
              "    <tr>\n",
              "      <th>66</th>\n",
              "      <td>Task</td>\n",
              "      <td>anubis - unable upload documents</td>\n",
              "    </tr>\n",
              "    <tr>\n",
              "      <th>67</th>\n",
              "      <td>Bug</td>\n",
              "      <td>error uploading minutes</td>\n",
              "    </tr>\n",
              "    <tr>\n",
              "      <th>68</th>\n",
              "      <td>Task</td>\n",
              "      <td>postgresql db dump restoration issue dspace 6.2</td>\n",
              "    </tr>\n",
              "    <tr>\n",
              "      <th>69</th>\n",
              "      <td>Task</td>\n",
              "      <td>new dspace 6.x mirage 2 theme</td>\n",
              "    </tr>\n",
              "  </tbody>\n",
              "</table>\n",
              "<p>70 rows × 2 columns</p>\n",
              "</div>"
            ],
            "text/plain": [
              "   issue_type                                            summary\n",
              "0        Task  automate importing umoja data form email centr...\n",
              "1         Bug  error editing uid (currency options diasppear)...\n",
              "2        Task                                       user modules\n",
              "3        Task  communication > pending approval > uid letter ...\n",
              "4         Bug                             error editing function\n",
              "..        ...                                                ...\n",
              "65       Task          changes data, deletions erroneous records\n",
              "66       Task                   anubis - unable upload documents\n",
              "67        Bug                            error uploading minutes\n",
              "68       Task    postgresql db dump restoration issue dspace 6.2\n",
              "69       Task                      new dspace 6.x mirage 2 theme\n",
              "\n",
              "[70 rows x 2 columns]"
            ]
          },
          "metadata": {
            "tags": []
          },
          "execution_count": 35
        }
      ]
    },
    {
      "cell_type": "markdown",
      "metadata": {
        "id": "HOdV7BoF32X-"
      },
      "source": [
        "#### Removing HTML tags from issues"
      ]
    },
    {
      "cell_type": "code",
      "metadata": {
        "id": "70JF_GE932X_"
      },
      "source": [
        "def remove_html_tags(summary):\n",
        "    import re\n",
        "    clean = re.compile('<.*?>')\n",
        "    return re.sub(clean, '', summary)"
      ],
      "execution_count": null,
      "outputs": []
    },
    {
      "cell_type": "code",
      "metadata": {
        "id": "ZyDJheXB32X_",
        "outputId": "d1e893d5-51fe-4f95-fab2-68ec655bb33a"
      },
      "source": [
        "df['summary'] = df['summary'].apply(remove_html_tags)\n",
        "df"
      ],
      "execution_count": null,
      "outputs": [
        {
          "output_type": "execute_result",
          "data": {
            "text/html": [
              "<div>\n",
              "<style scoped>\n",
              "    .dataframe tbody tr th:only-of-type {\n",
              "        vertical-align: middle;\n",
              "    }\n",
              "\n",
              "    .dataframe tbody tr th {\n",
              "        vertical-align: top;\n",
              "    }\n",
              "\n",
              "    .dataframe thead th {\n",
              "        text-align: right;\n",
              "    }\n",
              "</style>\n",
              "<table border=\"1\" class=\"dataframe\">\n",
              "  <thead>\n",
              "    <tr style=\"text-align: right;\">\n",
              "      <th></th>\n",
              "      <th>issue_type</th>\n",
              "      <th>summary</th>\n",
              "    </tr>\n",
              "  </thead>\n",
              "  <tbody>\n",
              "    <tr>\n",
              "      <th>0</th>\n",
              "      <td>Task</td>\n",
              "      <td>automate importing umoja data form email centr...</td>\n",
              "    </tr>\n",
              "    <tr>\n",
              "      <th>1</th>\n",
              "      <td>Bug</td>\n",
              "      <td>error editing uid (currency options diasppear)...</td>\n",
              "    </tr>\n",
              "    <tr>\n",
              "      <th>2</th>\n",
              "      <td>Task</td>\n",
              "      <td>user modules</td>\n",
              "    </tr>\n",
              "    <tr>\n",
              "      <th>3</th>\n",
              "      <td>Task</td>\n",
              "      <td>communication &gt; pending approval &gt; uid letter ...</td>\n",
              "    </tr>\n",
              "    <tr>\n",
              "      <th>4</th>\n",
              "      <td>Bug</td>\n",
              "      <td>error editing function</td>\n",
              "    </tr>\n",
              "    <tr>\n",
              "      <th>...</th>\n",
              "      <td>...</td>\n",
              "      <td>...</td>\n",
              "    </tr>\n",
              "    <tr>\n",
              "      <th>65</th>\n",
              "      <td>Task</td>\n",
              "      <td>changes data, deletions erroneous records</td>\n",
              "    </tr>\n",
              "    <tr>\n",
              "      <th>66</th>\n",
              "      <td>Task</td>\n",
              "      <td>anubis - unable upload documents</td>\n",
              "    </tr>\n",
              "    <tr>\n",
              "      <th>67</th>\n",
              "      <td>Bug</td>\n",
              "      <td>error uploading minutes</td>\n",
              "    </tr>\n",
              "    <tr>\n",
              "      <th>68</th>\n",
              "      <td>Task</td>\n",
              "      <td>postgresql db dump restoration issue dspace 6.2</td>\n",
              "    </tr>\n",
              "    <tr>\n",
              "      <th>69</th>\n",
              "      <td>Task</td>\n",
              "      <td>new dspace 6.x mirage 2 theme</td>\n",
              "    </tr>\n",
              "  </tbody>\n",
              "</table>\n",
              "<p>70 rows × 2 columns</p>\n",
              "</div>"
            ],
            "text/plain": [
              "   issue_type                                            summary\n",
              "0        Task  automate importing umoja data form email centr...\n",
              "1         Bug  error editing uid (currency options diasppear)...\n",
              "2        Task                                       user modules\n",
              "3        Task  communication > pending approval > uid letter ...\n",
              "4         Bug                             error editing function\n",
              "..        ...                                                ...\n",
              "65       Task          changes data, deletions erroneous records\n",
              "66       Task                   anubis - unable upload documents\n",
              "67        Bug                            error uploading minutes\n",
              "68       Task    postgresql db dump restoration issue dspace 6.2\n",
              "69       Task                      new dspace 6.x mirage 2 theme\n",
              "\n",
              "[70 rows x 2 columns]"
            ]
          },
          "metadata": {
            "tags": []
          },
          "execution_count": 37
        }
      ]
    },
    {
      "cell_type": "markdown",
      "metadata": {
        "id": "dbY1DGab32X_"
      },
      "source": [
        "#### Removing punctuations from issues"
      ]
    },
    {
      "cell_type": "code",
      "metadata": {
        "id": "njiiGC3p32X_"
      },
      "source": [
        "def remove_punctuation(summary):\n",
        "    import string\n",
        "    for c in string.punctuation:\n",
        "        summary = summary.replace(c,\" \")\n",
        "    return summary"
      ],
      "execution_count": null,
      "outputs": []
    },
    {
      "cell_type": "code",
      "metadata": {
        "id": "PrQAlG_D32X_",
        "outputId": "f0fd1355-4e42-4b23-82f9-9ae5f2192a36"
      },
      "source": [
        "df['summary'] = df['summary'].apply(remove_punctuation)\n",
        "df"
      ],
      "execution_count": null,
      "outputs": [
        {
          "output_type": "execute_result",
          "data": {
            "text/html": [
              "<div>\n",
              "<style scoped>\n",
              "    .dataframe tbody tr th:only-of-type {\n",
              "        vertical-align: middle;\n",
              "    }\n",
              "\n",
              "    .dataframe tbody tr th {\n",
              "        vertical-align: top;\n",
              "    }\n",
              "\n",
              "    .dataframe thead th {\n",
              "        text-align: right;\n",
              "    }\n",
              "</style>\n",
              "<table border=\"1\" class=\"dataframe\">\n",
              "  <thead>\n",
              "    <tr style=\"text-align: right;\">\n",
              "      <th></th>\n",
              "      <th>issue_type</th>\n",
              "      <th>summary</th>\n",
              "    </tr>\n",
              "  </thead>\n",
              "  <tbody>\n",
              "    <tr>\n",
              "      <th>0</th>\n",
              "      <td>Task</td>\n",
              "      <td>automate importing umoja data form email centr...</td>\n",
              "    </tr>\n",
              "    <tr>\n",
              "      <th>1</th>\n",
              "      <td>Bug</td>\n",
              "      <td>error editing uid  currency options diasppear ...</td>\n",
              "    </tr>\n",
              "    <tr>\n",
              "      <th>2</th>\n",
              "      <td>Task</td>\n",
              "      <td>user modules</td>\n",
              "    </tr>\n",
              "    <tr>\n",
              "      <th>3</th>\n",
              "      <td>Task</td>\n",
              "      <td>communication   pending approval   uid letter ...</td>\n",
              "    </tr>\n",
              "    <tr>\n",
              "      <th>4</th>\n",
              "      <td>Bug</td>\n",
              "      <td>error editing function</td>\n",
              "    </tr>\n",
              "    <tr>\n",
              "      <th>...</th>\n",
              "      <td>...</td>\n",
              "      <td>...</td>\n",
              "    </tr>\n",
              "    <tr>\n",
              "      <th>65</th>\n",
              "      <td>Task</td>\n",
              "      <td>changes data  deletions erroneous records</td>\n",
              "    </tr>\n",
              "    <tr>\n",
              "      <th>66</th>\n",
              "      <td>Task</td>\n",
              "      <td>anubis   unable upload documents</td>\n",
              "    </tr>\n",
              "    <tr>\n",
              "      <th>67</th>\n",
              "      <td>Bug</td>\n",
              "      <td>error uploading minutes</td>\n",
              "    </tr>\n",
              "    <tr>\n",
              "      <th>68</th>\n",
              "      <td>Task</td>\n",
              "      <td>postgresql db dump restoration issue dspace 6 2</td>\n",
              "    </tr>\n",
              "    <tr>\n",
              "      <th>69</th>\n",
              "      <td>Task</td>\n",
              "      <td>new dspace 6 x mirage 2 theme</td>\n",
              "    </tr>\n",
              "  </tbody>\n",
              "</table>\n",
              "<p>70 rows × 2 columns</p>\n",
              "</div>"
            ],
            "text/plain": [
              "   issue_type                                            summary\n",
              "0        Task  automate importing umoja data form email centr...\n",
              "1         Bug  error editing uid  currency options diasppear ...\n",
              "2        Task                                       user modules\n",
              "3        Task  communication   pending approval   uid letter ...\n",
              "4         Bug                             error editing function\n",
              "..        ...                                                ...\n",
              "65       Task          changes data  deletions erroneous records\n",
              "66       Task                   anubis   unable upload documents\n",
              "67        Bug                            error uploading minutes\n",
              "68       Task    postgresql db dump restoration issue dspace 6 2\n",
              "69       Task                      new dspace 6 x mirage 2 theme\n",
              "\n",
              "[70 rows x 2 columns]"
            ]
          },
          "metadata": {
            "tags": []
          },
          "execution_count": 39
        }
      ]
    },
    {
      "cell_type": "markdown",
      "metadata": {
        "id": "vQxoC6-I32X_"
      },
      "source": [
        "#### Lowercase all issues"
      ]
    },
    {
      "cell_type": "code",
      "metadata": {
        "id": "0PT2Ns5U32YA"
      },
      "source": [
        "def lowercase(summary):\n",
        "    import string\n",
        "    for c in string:\n",
        "        summary = summary.lower(c)\n",
        "    return summary"
      ],
      "execution_count": null,
      "outputs": []
    },
    {
      "cell_type": "markdown",
      "metadata": {
        "id": "acsjL1Ck32YA"
      },
      "source": [
        "#### Removing emoticons from issues"
      ]
    },
    {
      "cell_type": "code",
      "metadata": {
        "id": "U--TRl3S32YA"
      },
      "source": [
        "def remove_emoticons(summary):\n",
        "    import re\n",
        "    regrex_pattern = re.compile(pattern = \"[\"\n",
        "        u\"\\U0001F600-\\U0001F64F\"  # emoticons\n",
        "        u\"\\U0001F300-\\U0001F5FF\"  # symbols & pictographs\n",
        "        u\"\\U0001F680-\\U0001F6FF\"  # transport & map symbols\n",
        "        u\"\\U0001F1E0-\\U0001F1FF\"  # flags (iOS)\n",
        "                           \"]+\", flags = re.UNICODE)\n",
        "    return regrex_pattern.sub(r'',summary)"
      ],
      "execution_count": null,
      "outputs": []
    },
    {
      "cell_type": "code",
      "metadata": {
        "scrolled": false,
        "id": "GUUwdIrm32YA",
        "outputId": "c10099a6-2de9-4d75-880e-d3da3f32d183"
      },
      "source": [
        "df['summary'] = df['summary'].apply(remove_emoticons)\n",
        "df"
      ],
      "execution_count": null,
      "outputs": [
        {
          "output_type": "execute_result",
          "data": {
            "text/html": [
              "<div>\n",
              "<style scoped>\n",
              "    .dataframe tbody tr th:only-of-type {\n",
              "        vertical-align: middle;\n",
              "    }\n",
              "\n",
              "    .dataframe tbody tr th {\n",
              "        vertical-align: top;\n",
              "    }\n",
              "\n",
              "    .dataframe thead th {\n",
              "        text-align: right;\n",
              "    }\n",
              "</style>\n",
              "<table border=\"1\" class=\"dataframe\">\n",
              "  <thead>\n",
              "    <tr style=\"text-align: right;\">\n",
              "      <th></th>\n",
              "      <th>issue_type</th>\n",
              "      <th>summary</th>\n",
              "    </tr>\n",
              "  </thead>\n",
              "  <tbody>\n",
              "    <tr>\n",
              "      <th>0</th>\n",
              "      <td>Task</td>\n",
              "      <td>automate importing umoja data form email centr...</td>\n",
              "    </tr>\n",
              "    <tr>\n",
              "      <th>1</th>\n",
              "      <td>Bug</td>\n",
              "      <td>error editing uid  currency options diasppear ...</td>\n",
              "    </tr>\n",
              "    <tr>\n",
              "      <th>2</th>\n",
              "      <td>Task</td>\n",
              "      <td>user modules</td>\n",
              "    </tr>\n",
              "    <tr>\n",
              "      <th>3</th>\n",
              "      <td>Task</td>\n",
              "      <td>communication   pending approval   uid letter ...</td>\n",
              "    </tr>\n",
              "    <tr>\n",
              "      <th>4</th>\n",
              "      <td>Bug</td>\n",
              "      <td>error editing function</td>\n",
              "    </tr>\n",
              "    <tr>\n",
              "      <th>...</th>\n",
              "      <td>...</td>\n",
              "      <td>...</td>\n",
              "    </tr>\n",
              "    <tr>\n",
              "      <th>65</th>\n",
              "      <td>Task</td>\n",
              "      <td>changes data  deletions erroneous records</td>\n",
              "    </tr>\n",
              "    <tr>\n",
              "      <th>66</th>\n",
              "      <td>Task</td>\n",
              "      <td>anubis   unable upload documents</td>\n",
              "    </tr>\n",
              "    <tr>\n",
              "      <th>67</th>\n",
              "      <td>Bug</td>\n",
              "      <td>error uploading minutes</td>\n",
              "    </tr>\n",
              "    <tr>\n",
              "      <th>68</th>\n",
              "      <td>Task</td>\n",
              "      <td>postgresql db dump restoration issue dspace 6 2</td>\n",
              "    </tr>\n",
              "    <tr>\n",
              "      <th>69</th>\n",
              "      <td>Task</td>\n",
              "      <td>new dspace 6 x mirage 2 theme</td>\n",
              "    </tr>\n",
              "  </tbody>\n",
              "</table>\n",
              "<p>70 rows × 2 columns</p>\n",
              "</div>"
            ],
            "text/plain": [
              "   issue_type                                            summary\n",
              "0        Task  automate importing umoja data form email centr...\n",
              "1         Bug  error editing uid  currency options diasppear ...\n",
              "2        Task                                       user modules\n",
              "3        Task  communication   pending approval   uid letter ...\n",
              "4         Bug                             error editing function\n",
              "..        ...                                                ...\n",
              "65       Task          changes data  deletions erroneous records\n",
              "66       Task                   anubis   unable upload documents\n",
              "67        Bug                            error uploading minutes\n",
              "68       Task    postgresql db dump restoration issue dspace 6 2\n",
              "69       Task                      new dspace 6 x mirage 2 theme\n",
              "\n",
              "[70 rows x 2 columns]"
            ]
          },
          "metadata": {
            "tags": []
          },
          "execution_count": 42
        }
      ]
    },
    {
      "cell_type": "markdown",
      "metadata": {
        "id": "KbUF-OxS32YA"
      },
      "source": [
        "### 2. Data Preprocessing and Modelling\n",
        "\n",
        "\n",
        "\n",
        "#### Converting Text to Numerical Vector"
      ]
    },
    {
      "cell_type": "code",
      "metadata": {
        "id": "6mxmofRq32YA"
      },
      "source": [
        "import pandas as pd\n",
        "import numpy as np\n",
        "import nltk\n",
        "import string\n",
        "import math\n",
        "import matplotlib.pyplot as plt\n",
        "import seaborn as sns\n",
        "from sklearn.feature_extraction.text import TfidfTransformer\n",
        "from sklearn.feature_extraction.text import TfidfVectorizer\n",
        "\n",
        "from sklearn.naive_bayes import MultinomialNB\n",
        "from sklearn.ensemble import RandomForestClassifier\n",
        "from sklearn.linear_model import SGDClassifier\n",
        "\n",
        "from sklearn.model_selection import train_test_split\n",
        "from sklearn.model_selection import cross_val_score\n",
        "from sklearn.model_selection import GridSearchCV\n",
        "\n",
        "from sklearn.metrics import confusion_matrix\n",
        "from sklearn.metrics import accuracy_score\n",
        "from sklearn import metrics\n",
        "import re\n",
        "import string\n",
        "from nltk.corpus import stopwords\n",
        "from nltk.stem import PorterStemmer\n",
        "from nltk.stem.wordnet import WordNetLemmatizer"
      ],
      "execution_count": null,
      "outputs": []
    },
    {
      "cell_type": "code",
      "metadata": {
        "scrolled": true,
        "id": "CZrsQIeS32YB",
        "outputId": "eb824070-253c-42b9-cd82-6e60a48ebede"
      },
      "source": [
        "df[\"issue_type\"].replace({\"Bug\": \"0\", \"Task\": \"1\", \"Improvement\": \"2\"}, inplace=True)\n",
        "print(df)"
      ],
      "execution_count": null,
      "outputs": [
        {
          "output_type": "stream",
          "text": [
            "   issue_type                                            summary\n",
            "0           1  automate importing umoja data form email centr...\n",
            "1           0  error editing uid  currency options diasppear ...\n",
            "2           1                                       user modules\n",
            "3           1  communication   pending approval   uid letter ...\n",
            "4           0                             error editing function\n",
            "..        ...                                                ...\n",
            "65          1          changes data  deletions erroneous records\n",
            "66          1                   anubis   unable upload documents\n",
            "67          0                            error uploading minutes\n",
            "68          1    postgresql db dump restoration issue dspace 6 2\n",
            "69          1                      new dspace 6 x mirage 2 theme\n",
            "\n",
            "[70 rows x 2 columns]\n"
          ],
          "name": "stdout"
        }
      ]
    },
    {
      "cell_type": "code",
      "metadata": {
        "scrolled": false,
        "id": "thnAvbud32YB",
        "outputId": "92f14a90-f3f1-41e2-f01c-cad0686746a0"
      },
      "source": [
        "df[\"issue_type\"].value_counts(normalize= True)"
      ],
      "execution_count": null,
      "outputs": [
        {
          "output_type": "execute_result",
          "data": {
            "text/plain": [
              "0    0.714286\n",
              "1    0.271429\n",
              "2    0.014286\n",
              "Name: issue_type, dtype: float64"
            ]
          },
          "metadata": {
            "tags": []
          },
          "execution_count": 45
        }
      ]
    },
    {
      "cell_type": "markdown",
      "metadata": {
        "id": "bdSxhlBH32YB"
      },
      "source": [
        "#### Vectorize sentences"
      ]
    },
    {
      "cell_type": "code",
      "metadata": {
        "id": "8t_oji1732YB"
      },
      "source": [
        "from sklearn.feature_extraction.text import CountVectorizer"
      ],
      "execution_count": null,
      "outputs": []
    },
    {
      "cell_type": "code",
      "metadata": {
        "id": "5VqYTEZu32YB",
        "outputId": "008f42a7-c09c-48a6-915f-714c79d09faa"
      },
      "source": [
        "vectorizer = CountVectorizer(min_df=0, lowercase=False)\n",
        "vectorizer.fit(df[\"summary\"])\n",
        "vectorizer.vocabulary_"
      ],
      "execution_count": null,
      "outputs": [
        {
          "output_type": "execute_result",
          "data": {
            "text/plain": [
              "{'automate': 25,\n",
              " 'importing': 100,\n",
              " 'umoja': 195,\n",
              " 'data': 51,\n",
              " 'form': 83,\n",
              " 'email': 73,\n",
              " 'central': 32,\n",
              " 'db': 52,\n",
              " 'error': 78,\n",
              " 'editing': 71,\n",
              " 'uid': 194,\n",
              " 'currency': 50,\n",
              " 'options': 140,\n",
              " 'diasppear': 59,\n",
              " 'donor': 65,\n",
              " 'show': 175,\n",
              " 'summary': 182,\n",
              " 'list': 117,\n",
              " 'user': 203,\n",
              " 'modules': 133,\n",
              " 'communication': 42,\n",
              " 'pending': 150,\n",
              " 'approval': 22,\n",
              " 'letter': 113,\n",
              " 'approvals': 23,\n",
              " 'function': 86,\n",
              " 'revealed': 165,\n",
              " 'backend': 26,\n",
              " 'code': 38,\n",
              " 'saving': 168,\n",
              " 'new': 136,\n",
              " 'details': 58,\n",
              " 'throwing': 189,\n",
              " 'message': 129,\n",
              " 'one': 139,\n",
              " 'tries': 191,\n",
              " 'uploading': 202,\n",
              " 'wrong': 211,\n",
              " 'document': 62,\n",
              " 'format': 84,\n",
              " 'cop': 45,\n",
              " 'mop': 134,\n",
              " 'funds': 89,\n",
              " 'pledges': 151,\n",
              " 'messages': 130,\n",
              " 'throughtout': 188,\n",
              " 'application': 21,\n",
              " 'sql': 179,\n",
              " 'validation': 204,\n",
              " 'cover': 48,\n",
              " 'letters': 114,\n",
              " 'invoices': 104,\n",
              " 'generated': 90,\n",
              " 'saves': 167,\n",
              " 'empty': 74,\n",
              " 'allotment': 13,\n",
              " 'funding': 88,\n",
              " 'delete': 53,\n",
              " 'deleting': 54,\n",
              " 'record': 158,\n",
              " 'without': 208,\n",
              " 'selecting': 170,\n",
              " 'checkbox': 35,\n",
              " 'mandatory': 123,\n",
              " 'able': 6,\n",
              " 'clicking': 37,\n",
              " 'service': 172,\n",
              " 'desk': 57,\n",
              " 'help': 95,\n",
              " 'leads': 112,\n",
              " '404': 5,\n",
              " 'page': 146,\n",
              " 'found': 85,\n",
              " 'trying': 192,\n",
              " 'management': 121,\n",
              " 'masters': 125,\n",
              " 'bank': 28,\n",
              " 'accounts': 8,\n",
              " 'upload': 201,\n",
              " 'signature': 177,\n",
              " 'consistency': 43,\n",
              " 'showing': 176,\n",
              " 'overview': 144,\n",
              " 'tab': 184,\n",
              " 'home': 97,\n",
              " 'add': 10,\n",
              " 'contributions': 44,\n",
              " 'manager': 122,\n",
              " 'login': 120,\n",
              " 'edit': 70,\n",
              " 'instalments': 102,\n",
              " 'log': 118,\n",
              " 'invoice': 103,\n",
              " 'actual': 9,\n",
              " 'paymentindex': 148,\n",
              " 'payments': 149,\n",
              " 'match': 126,\n",
              " 'payment': 147,\n",
              " 'illegal': 99,\n",
              " 'doc': 61,\n",
              " 'types': 193,\n",
              " 'allowd': 14,\n",
              " 'card': 30,\n",
              " 'total': 190,\n",
              " 'outstanding': 143,\n",
              " 'balance': 27,\n",
              " 'arithmetic': 24,\n",
              " 'pop': 152,\n",
              " 'up': 199,\n",
              " 'adding': 11,\n",
              " 'jason': 107,\n",
              " 'script': 169,\n",
              " 'appears': 19,\n",
              " 'issue': 105,\n",
              " '222': 1,\n",
              " '223': 2,\n",
              " 'occurs': 137,\n",
              " 'under': 197,\n",
              " 'fund': 87,\n",
              " 'collaborative': 40,\n",
              " '300': 3,\n",
              " 'environmental': 76,\n",
              " 'indicators': 101,\n",
              " 'latin': 111,\n",
              " 'america': 16,\n",
              " 'carribean': 31,\n",
              " 'workbox': 210,\n",
              " 'comment': 41,\n",
              " 'editor': 72,\n",
              " 'appear': 18,\n",
              " 'click': 36,\n",
              " 'create': 49,\n",
              " 'bug': 29,\n",
              " 'fixes': 81,\n",
              " 'views': 206,\n",
              " 'errors': 79,\n",
              " 'status': 180,\n",
              " 'ratification': 156,\n",
              " 'map': 124,\n",
              " 'view': 205,\n",
              " 'meetings': 128,\n",
              " 'filtering': 80,\n",
              " 'website': 207,\n",
              " 'encountered': 75,\n",
              " 'unexpected': 198,\n",
              " 'replication': 163,\n",
              " 'ozone': 145,\n",
              " 'label': 110,\n",
              " 'maxlength': 127,\n",
              " 'preventing': 155,\n",
              " 're': 157,\n",
              " 'order': 141,\n",
              " 'redirect': 160,\n",
              " '403': 4,\n",
              " 'access': 7,\n",
              " 'denied': 56,\n",
              " 'submission': 181,\n",
              " 'job': 108,\n",
              " 'codes': 39,\n",
              " 'dont': 66,\n",
              " 'work': 209,\n",
              " 'ofo': 138,\n",
              " '01': 0,\n",
              " 'super': 183,\n",
              " 'admin': 12,\n",
              " 'portal': 153,\n",
              " 'jpo': 109,\n",
              " 'cordinator': 46,\n",
              " 'applicant': 20,\n",
              " 'special': 178,\n",
              " 'characters': 34,\n",
              " 'term': 185,\n",
              " 'reference': 161,\n",
              " 'identifying': 98,\n",
              " 'already': 15,\n",
              " 'logged': 119,\n",
              " 'session': 173,\n",
              " 'government': 91,\n",
              " 'hiring': 96,\n",
              " 'couple': 47,\n",
              " 'testing': 186,\n",
              " 'it': 106,\n",
              " 'discussion': 60,\n",
              " 'run': 166,\n",
              " 'drush': 67,\n",
              " 'following': 82,\n",
              " 'greencustoms': 92,\n",
              " 'org': 142,\n",
              " 'domain': 64,\n",
              " 'setup': 174,\n",
              " 'upgrade': 200,\n",
              " 'dspace': 68,\n",
              " 'renew': 162,\n",
              " 'hanldle': 94,\n",
              " 'net': 135,\n",
              " 'license': 115,\n",
              " 'handling': 93,\n",
              " 'server': 171,\n",
              " 'linkages': 116,\n",
              " 'changes': 33,\n",
              " 'deletions': 55,\n",
              " 'erroneous': 77,\n",
              " 'records': 159,\n",
              " 'anubis': 17,\n",
              " 'unable': 196,\n",
              " 'documents': 63,\n",
              " 'minutes': 131,\n",
              " 'postgresql': 154,\n",
              " 'dump': 69,\n",
              " 'restoration': 164,\n",
              " 'mirage': 132,\n",
              " 'theme': 187}"
            ]
          },
          "metadata": {
            "tags": []
          },
          "execution_count": 47
        }
      ]
    },
    {
      "cell_type": "markdown",
      "metadata": {
        "id": "3p--DDIA32YC"
      },
      "source": [
        "#### Creating a Bag of Words model"
      ]
    },
    {
      "cell_type": "code",
      "metadata": {
        "id": "LtE58WVw32YC",
        "outputId": "1f16cc2c-920b-45a3-8f1a-ff541c7a2646"
      },
      "source": [
        "vectorizer.transform(df[\"summary\"]).toarray()"
      ],
      "execution_count": null,
      "outputs": [
        {
          "output_type": "execute_result",
          "data": {
            "text/plain": [
              "array([[0, 0, 0, ..., 0, 0, 0],\n",
              "       [0, 0, 0, ..., 0, 0, 0],\n",
              "       [0, 0, 0, ..., 0, 0, 0],\n",
              "       ...,\n",
              "       [0, 0, 0, ..., 0, 0, 0],\n",
              "       [0, 0, 0, ..., 0, 0, 0],\n",
              "       [0, 0, 0, ..., 0, 0, 0]], dtype=int64)"
            ]
          },
          "metadata": {
            "tags": []
          },
          "execution_count": 48
        }
      ]
    },
    {
      "cell_type": "markdown",
      "metadata": {
        "id": "h4JvNbqI32YC"
      },
      "source": [
        "#### Split the data into train and test sets"
      ]
    },
    {
      "cell_type": "code",
      "metadata": {
        "id": "8pr39_ME32YC"
      },
      "source": [
        "from sklearn.model_selection import train_test_split"
      ],
      "execution_count": null,
      "outputs": []
    },
    {
      "cell_type": "code",
      "metadata": {
        "id": "ildp8JKR32YC"
      },
      "source": [
        "summaries = df[\"summary\"].values\n",
        "y = df[\"issue_type\"].values"
      ],
      "execution_count": null,
      "outputs": []
    },
    {
      "cell_type": "code",
      "metadata": {
        "id": "wvVXo2jV32YD"
      },
      "source": [
        "summaries_train, summaries_test, y_train, y_test = train_test_split(summaries, y, test_size=0.25, random_state=1000)"
      ],
      "execution_count": null,
      "outputs": []
    },
    {
      "cell_type": "markdown",
      "metadata": {
        "id": "6vbFJclV32YD"
      },
      "source": [
        "#### Using the BOW model to vectorize the questions"
      ]
    },
    {
      "cell_type": "code",
      "metadata": {
        "id": "ZyOZCZcj32YD"
      },
      "source": [
        "from sklearn.feature_extraction.text import CountVectorizer"
      ],
      "execution_count": null,
      "outputs": []
    },
    {
      "cell_type": "code",
      "metadata": {
        "id": "Tkv55pZU32YD",
        "outputId": "89a8956c-296b-4d90-a169-e8127dfbcff4"
      },
      "source": [
        "vectorizer = CountVectorizer()\n",
        "vectorizer.fit(summaries_train)"
      ],
      "execution_count": null,
      "outputs": [
        {
          "output_type": "execute_result",
          "data": {
            "text/plain": [
              "CountVectorizer()"
            ]
          },
          "metadata": {
            "tags": []
          },
          "execution_count": 53
        }
      ]
    },
    {
      "cell_type": "code",
      "metadata": {
        "scrolled": true,
        "id": "7C6hCcgo32YD",
        "outputId": "ddcd7717-d6bc-4b4f-b0b5-1057029f3ea8"
      },
      "source": [
        "X_train = vectorizer.transform(summaries_train)\n",
        "X_test  = vectorizer.transform(summaries_test)\n",
        "X_train"
      ],
      "execution_count": null,
      "outputs": [
        {
          "output_type": "execute_result",
          "data": {
            "text/plain": [
              "<52x172 sparse matrix of type '<class 'numpy.int64'>'\n",
              "\twith 254 stored elements in Compressed Sparse Row format>"
            ]
          },
          "metadata": {
            "tags": []
          },
          "execution_count": 54
        }
      ]
    },
    {
      "cell_type": "markdown",
      "metadata": {
        "id": "qLLT2gO132YD"
      },
      "source": [
        "#### The resulting feature vectors have 52 samples which are the number of training samples after the train-test split. Each sample has 172 dimensions which is the size of the vocabulary."
      ]
    },
    {
      "cell_type": "markdown",
      "metadata": {
        "id": "xRai0ldv32YE"
      },
      "source": [
        "### 3. Model Evaluation"
      ]
    },
    {
      "cell_type": "code",
      "metadata": {
        "id": "uQhsDyTJ32YE"
      },
      "source": [
        "from sklearn.linear_model import LogisticRegression"
      ],
      "execution_count": null,
      "outputs": []
    },
    {
      "cell_type": "code",
      "metadata": {
        "id": "Jn6gNNd932YE"
      },
      "source": [
        "classifier = LogisticRegression()\n",
        "classifier.fit(X_train, y_train)\n",
        "score = classifier.score(X_test, y_test)"
      ],
      "execution_count": null,
      "outputs": []
    },
    {
      "cell_type": "code",
      "metadata": {
        "id": "0CF8F4I032YE",
        "outputId": "11deab56-6498-41e1-a761-fc2a1c7f8b39"
      },
      "source": [
        "print(\"Accuracy:\", score)"
      ],
      "execution_count": null,
      "outputs": [
        {
          "output_type": "stream",
          "text": [
            "Accuracy: 0.6666666666666666\n"
          ],
          "name": "stdout"
        }
      ]
    },
    {
      "cell_type": "markdown",
      "metadata": {
        "id": "FuQbG9o732YF"
      },
      "source": [
        "### 4. Conclusion"
      ]
    },
    {
      "cell_type": "markdown",
      "metadata": {
        "id": "5ZfqHR5S32YF"
      },
      "source": [
        "#### Logistic regression classifies the data by considering outcome variables on extreme ends and consequently forms a line to distinguish them.\n",
        "#### This algorithm provides great efficiency, works well in the segmentation and categorization of a small number of categorical variables.\n"
      ]
    }
  ]
}